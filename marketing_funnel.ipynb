{
 "cells": [
  {
   "cell_type": "markdown",
   "id": "496b4db6-bfa9-4ef0-addf-966cbf6cec91",
   "metadata": {},
   "source": [
    "# Marketing Funnel Analysis\n",
    "- Analyst: Yue (Crystal) Hu\n",
    "- Date: November 2024 "
   ]
  },
  {
   "cell_type": "markdown",
   "id": "0b1dcd21-9642-4397-82a9-324bcfb3d87b",
   "metadata": {},
   "source": [
    "## Data Processing"
   ]
  },
  {
   "cell_type": "code",
   "execution_count": 1,
   "id": "9eb2913c-1379-4a62-852c-f833726a5bf2",
   "metadata": {},
   "outputs": [],
   "source": [
    "# Load packages\n",
    "import pandas as pd\n",
    "import numpy as np\n",
    "\n",
    "import warnings\n",
    "\n",
    "# Suppress warnings\n",
    "warnings.filterwarnings('ignore')"
   ]
  },
  {
   "cell_type": "code",
   "execution_count": 2,
   "id": "c222d021-d2a1-497f-a2d9-6ed3c8565808",
   "metadata": {},
   "outputs": [],
   "source": [
    "# Load data\n",
    "leads = pd.read_csv('leads_df.csv')\n",
    "qualified_leads = pd.read_csv('qualified_leads_df.csv')\n",
    "account_opportunitiy = pd.read_csv('account_opportunity.csv')"
   ]
  },
  {
   "cell_type": "code",
   "execution_count": 3,
   "id": "c9096c10-43f0-4b53-be02-790e3299b09c",
   "metadata": {},
   "outputs": [
    {
     "name": "stdout",
     "output_type": "stream",
     "text": [
      "<class 'pandas.core.frame.DataFrame'>\n",
      "RangeIndex: 55014 entries, 0 to 55013\n",
      "Data columns (total 10 columns):\n",
      " #   Column                Non-Null Count  Dtype \n",
      "---  ------                --------------  ----- \n",
      " 0   LEAD_ID               55014 non-null  int64 \n",
      " 1   LEAD_SOURCE           52249 non-null  object\n",
      " 2   LEAD_CREATE_DATE      55014 non-null  object\n",
      " 3   LEAD_STATUS           55014 non-null  object\n",
      " 4   LEAD_NAME             55014 non-null  object\n",
      " 5   LEAD_REGION           38677 non-null  object\n",
      " 6   LEAD_STATE            34532 non-null  object\n",
      " 7   LEAD_EMAIL            46792 non-null  object\n",
      " 8   LEAD_INDUSTRY         18739 non-null  object\n",
      " 9   CONVERTED_ACCOUNT_ID  9827 non-null   object\n",
      "dtypes: int64(1), object(9)\n",
      "memory usage: 4.2+ MB\n"
     ]
    }
   ],
   "source": [
    "leads.info()"
   ]
  },
  {
   "cell_type": "code",
   "execution_count": 4,
   "id": "a166fa92-6243-42b7-bb29-508b3d795a63",
   "metadata": {},
   "outputs": [
    {
     "data": {
      "text/html": [
       "<div>\n",
       "<style scoped>\n",
       "    .dataframe tbody tr th:only-of-type {\n",
       "        vertical-align: middle;\n",
       "    }\n",
       "\n",
       "    .dataframe tbody tr th {\n",
       "        vertical-align: top;\n",
       "    }\n",
       "\n",
       "    .dataframe thead th {\n",
       "        text-align: right;\n",
       "    }\n",
       "</style>\n",
       "<table border=\"1\" class=\"dataframe\">\n",
       "  <thead>\n",
       "    <tr style=\"text-align: right;\">\n",
       "      <th></th>\n",
       "      <th>LEAD_ID</th>\n",
       "      <th>LEAD_SOURCE</th>\n",
       "      <th>LEAD_CREATE_DATE</th>\n",
       "      <th>LEAD_STATUS</th>\n",
       "      <th>LEAD_NAME</th>\n",
       "      <th>LEAD_REGION</th>\n",
       "      <th>LEAD_STATE</th>\n",
       "      <th>LEAD_EMAIL</th>\n",
       "      <th>LEAD_INDUSTRY</th>\n",
       "      <th>CONVERTED_ACCOUNT_ID</th>\n",
       "    </tr>\n",
       "  </thead>\n",
       "  <tbody>\n",
       "    <tr>\n",
       "      <th>0</th>\n",
       "      <td>862753</td>\n",
       "      <td>Event</td>\n",
       "      <td>9/9/22 0:00</td>\n",
       "      <td>Known User</td>\n",
       "      <td>Lori Davis</td>\n",
       "      <td>West</td>\n",
       "      <td>CA</td>\n",
       "      <td>lori.davis@example.com</td>\n",
       "      <td>NaN</td>\n",
       "      <td>NaN</td>\n",
       "    </tr>\n",
       "    <tr>\n",
       "      <th>1</th>\n",
       "      <td>900421</td>\n",
       "      <td>Event</td>\n",
       "      <td>9/9/22 0:00</td>\n",
       "      <td>Known User</td>\n",
       "      <td>Bridget Hernandez</td>\n",
       "      <td>West</td>\n",
       "      <td>California</td>\n",
       "      <td>bridget.hernandez@example.com</td>\n",
       "      <td>NaN</td>\n",
       "      <td>NaN</td>\n",
       "    </tr>\n",
       "    <tr>\n",
       "      <th>2</th>\n",
       "      <td>546676</td>\n",
       "      <td>Direct Traffic</td>\n",
       "      <td>9/9/22 0:00</td>\n",
       "      <td>Qualified</td>\n",
       "      <td>Joshua Wilson</td>\n",
       "      <td>West</td>\n",
       "      <td>CA</td>\n",
       "      <td>joshua.wilson@example.com</td>\n",
       "      <td>Retail / Goods</td>\n",
       "      <td>AC13604</td>\n",
       "    </tr>\n",
       "    <tr>\n",
       "      <th>3</th>\n",
       "      <td>750692</td>\n",
       "      <td>Referral Program</td>\n",
       "      <td>9/9/22 0:00</td>\n",
       "      <td>Known User</td>\n",
       "      <td>Mrs. Laura Newman</td>\n",
       "      <td>East</td>\n",
       "      <td>Pennsylvania</td>\n",
       "      <td>NaN</td>\n",
       "      <td>Education</td>\n",
       "      <td>NaN</td>\n",
       "    </tr>\n",
       "    <tr>\n",
       "      <th>4</th>\n",
       "      <td>195676</td>\n",
       "      <td>Direct Traffic</td>\n",
       "      <td>9/9/22 0:00</td>\n",
       "      <td>Working</td>\n",
       "      <td>Paul Gray</td>\n",
       "      <td>NaN</td>\n",
       "      <td>CA</td>\n",
       "      <td>paul.gray@example.com</td>\n",
       "      <td>NaN</td>\n",
       "      <td>NaN</td>\n",
       "    </tr>\n",
       "    <tr>\n",
       "      <th>5</th>\n",
       "      <td>807907</td>\n",
       "      <td>Affiliate</td>\n",
       "      <td>9/9/22 0:00</td>\n",
       "      <td>Nurture</td>\n",
       "      <td>Rebecca Brown</td>\n",
       "      <td>NaN</td>\n",
       "      <td>MA</td>\n",
       "      <td>rebecca.brown@example.com</td>\n",
       "      <td>NaN</td>\n",
       "      <td>NaN</td>\n",
       "    </tr>\n",
       "    <tr>\n",
       "      <th>6</th>\n",
       "      <td>817346</td>\n",
       "      <td>Self Sourced</td>\n",
       "      <td>9/9/22 0:00</td>\n",
       "      <td>Known User</td>\n",
       "      <td>Jody Walker</td>\n",
       "      <td>East</td>\n",
       "      <td>Connecticut</td>\n",
       "      <td>jody.walker@example.com</td>\n",
       "      <td>Law Firms &amp; Legal Services</td>\n",
       "      <td>NaN</td>\n",
       "    </tr>\n",
       "    <tr>\n",
       "      <th>7</th>\n",
       "      <td>791537</td>\n",
       "      <td>Organic Search</td>\n",
       "      <td>9/9/22 0:00</td>\n",
       "      <td>Qualified</td>\n",
       "      <td>Teresa Mathews</td>\n",
       "      <td>East</td>\n",
       "      <td>NY</td>\n",
       "      <td>teresa.mathews@example.com</td>\n",
       "      <td>Consulting / Professional Services</td>\n",
       "      <td>NaN</td>\n",
       "    </tr>\n",
       "    <tr>\n",
       "      <th>8</th>\n",
       "      <td>558224</td>\n",
       "      <td>NaN</td>\n",
       "      <td>9/9/22 0:00</td>\n",
       "      <td>Qualified</td>\n",
       "      <td>Eric Cardenas</td>\n",
       "      <td>East</td>\n",
       "      <td>FL</td>\n",
       "      <td>eric.cardenas@example.com</td>\n",
       "      <td>Manufacturing</td>\n",
       "      <td>NaN</td>\n",
       "    </tr>\n",
       "    <tr>\n",
       "      <th>9</th>\n",
       "      <td>225181</td>\n",
       "      <td>Direct Traffic</td>\n",
       "      <td>9/9/22 0:00</td>\n",
       "      <td>Working</td>\n",
       "      <td>Willie Schroeder</td>\n",
       "      <td>East</td>\n",
       "      <td>Maryland</td>\n",
       "      <td>willie.schroeder@example.com</td>\n",
       "      <td>NaN</td>\n",
       "      <td>NaN</td>\n",
       "    </tr>\n",
       "  </tbody>\n",
       "</table>\n",
       "</div>"
      ],
      "text/plain": [
       "   LEAD_ID       LEAD_SOURCE LEAD_CREATE_DATE LEAD_STATUS          LEAD_NAME  \\\n",
       "0   862753             Event      9/9/22 0:00  Known User         Lori Davis   \n",
       "1   900421             Event      9/9/22 0:00  Known User  Bridget Hernandez   \n",
       "2   546676    Direct Traffic      9/9/22 0:00   Qualified      Joshua Wilson   \n",
       "3   750692  Referral Program      9/9/22 0:00  Known User  Mrs. Laura Newman   \n",
       "4   195676    Direct Traffic      9/9/22 0:00     Working          Paul Gray   \n",
       "5   807907         Affiliate      9/9/22 0:00     Nurture      Rebecca Brown   \n",
       "6   817346      Self Sourced      9/9/22 0:00  Known User        Jody Walker   \n",
       "7   791537    Organic Search      9/9/22 0:00   Qualified     Teresa Mathews   \n",
       "8   558224               NaN      9/9/22 0:00   Qualified      Eric Cardenas   \n",
       "9   225181    Direct Traffic      9/9/22 0:00     Working   Willie Schroeder   \n",
       "\n",
       "  LEAD_REGION    LEAD_STATE                     LEAD_EMAIL  \\\n",
       "0        West            CA         lori.davis@example.com   \n",
       "1        West    California  bridget.hernandez@example.com   \n",
       "2        West            CA      joshua.wilson@example.com   \n",
       "3        East  Pennsylvania                            NaN   \n",
       "4         NaN            CA          paul.gray@example.com   \n",
       "5         NaN            MA      rebecca.brown@example.com   \n",
       "6        East   Connecticut        jody.walker@example.com   \n",
       "7        East            NY     teresa.mathews@example.com   \n",
       "8        East            FL      eric.cardenas@example.com   \n",
       "9        East      Maryland   willie.schroeder@example.com   \n",
       "\n",
       "                        LEAD_INDUSTRY CONVERTED_ACCOUNT_ID  \n",
       "0                                 NaN                  NaN  \n",
       "1                                 NaN                  NaN  \n",
       "2                      Retail / Goods              AC13604  \n",
       "3                           Education                  NaN  \n",
       "4                                 NaN                  NaN  \n",
       "5                                 NaN                  NaN  \n",
       "6          Law Firms & Legal Services                  NaN  \n",
       "7  Consulting / Professional Services                  NaN  \n",
       "8                       Manufacturing                  NaN  \n",
       "9                                 NaN                  NaN  "
      ]
     },
     "execution_count": 4,
     "metadata": {},
     "output_type": "execute_result"
    }
   ],
   "source": [
    "leads.head(10)"
   ]
  },
  {
   "cell_type": "code",
   "execution_count": 5,
   "id": "f50c2363-a946-4bd6-b722-f673de5be8c5",
   "metadata": {},
   "outputs": [],
   "source": [
    "# Convert date columns to datetime format\n",
    "leads['LEAD_CREATE_DATE'] = pd.to_datetime(leads['LEAD_CREATE_DATE'])"
   ]
  },
  {
   "cell_type": "code",
   "execution_count": 6,
   "id": "3909872d-f73c-45cc-89c1-baf93cad732a",
   "metadata": {},
   "outputs": [
    {
     "data": {
      "text/plain": [
       "(55014, 10)"
      ]
     },
     "execution_count": 6,
     "metadata": {},
     "output_type": "execute_result"
    }
   ],
   "source": [
    "leads.shape"
   ]
  },
  {
   "cell_type": "code",
   "execution_count": 8,
   "id": "bad2231c-88f8-454d-9596-f8070889908d",
   "metadata": {},
   "outputs": [
    {
     "data": {
      "text/html": [
       "<div>\n",
       "<style scoped>\n",
       "    .dataframe tbody tr th:only-of-type {\n",
       "        vertical-align: middle;\n",
       "    }\n",
       "\n",
       "    .dataframe tbody tr th {\n",
       "        vertical-align: top;\n",
       "    }\n",
       "\n",
       "    .dataframe thead th {\n",
       "        text-align: right;\n",
       "    }\n",
       "</style>\n",
       "<table border=\"1\" class=\"dataframe\">\n",
       "  <thead>\n",
       "    <tr style=\"text-align: right;\">\n",
       "      <th></th>\n",
       "      <th>LEAD_ID</th>\n",
       "      <th>QUALIFIED_LEAD_ID</th>\n",
       "      <th>CONVERTED_OPPORTUNITY_ID</th>\n",
       "    </tr>\n",
       "  </thead>\n",
       "  <tbody>\n",
       "    <tr>\n",
       "      <th>0</th>\n",
       "      <td>33844</td>\n",
       "      <td>QL000002</td>\n",
       "      <td>3SSHT9F3N6LCC7F</td>\n",
       "    </tr>\n",
       "    <tr>\n",
       "      <th>1</th>\n",
       "      <td>257694</td>\n",
       "      <td>QL000005</td>\n",
       "      <td>WQFQ26CXMU7RADH</td>\n",
       "    </tr>\n",
       "    <tr>\n",
       "      <th>2</th>\n",
       "      <td>108108</td>\n",
       "      <td>QL000006</td>\n",
       "      <td>SOQMUN0Q31WVE91</td>\n",
       "    </tr>\n",
       "    <tr>\n",
       "      <th>3</th>\n",
       "      <td>409279</td>\n",
       "      <td>QL000009</td>\n",
       "      <td>A1I6QUWYJO8L6SR</td>\n",
       "    </tr>\n",
       "    <tr>\n",
       "      <th>4</th>\n",
       "      <td>568514</td>\n",
       "      <td>QL000010</td>\n",
       "      <td>NaN</td>\n",
       "    </tr>\n",
       "    <tr>\n",
       "      <th>5</th>\n",
       "      <td>928296</td>\n",
       "      <td>QL000011</td>\n",
       "      <td>EVNK2DQX6PXB1FL</td>\n",
       "    </tr>\n",
       "    <tr>\n",
       "      <th>6</th>\n",
       "      <td>702408</td>\n",
       "      <td>QL000012</td>\n",
       "      <td>AQ0PN38MU8VEBGS</td>\n",
       "    </tr>\n",
       "    <tr>\n",
       "      <th>7</th>\n",
       "      <td>676722</td>\n",
       "      <td>QL000023</td>\n",
       "      <td>S4OBFDZS4U1RBX5</td>\n",
       "    </tr>\n",
       "    <tr>\n",
       "      <th>8</th>\n",
       "      <td>115246</td>\n",
       "      <td>QL000024</td>\n",
       "      <td>A6ZQWZ6VMUH2XA6</td>\n",
       "    </tr>\n",
       "    <tr>\n",
       "      <th>9</th>\n",
       "      <td>781328</td>\n",
       "      <td>QL000025</td>\n",
       "      <td>NaN</td>\n",
       "    </tr>\n",
       "  </tbody>\n",
       "</table>\n",
       "</div>"
      ],
      "text/plain": [
       "   LEAD_ID QUALIFIED_LEAD_ID CONVERTED_OPPORTUNITY_ID\n",
       "0    33844          QL000002          3SSHT9F3N6LCC7F\n",
       "1   257694          QL000005          WQFQ26CXMU7RADH\n",
       "2   108108          QL000006          SOQMUN0Q31WVE91\n",
       "3   409279          QL000009          A1I6QUWYJO8L6SR\n",
       "4   568514          QL000010                      NaN\n",
       "5   928296          QL000011          EVNK2DQX6PXB1FL\n",
       "6   702408          QL000012          AQ0PN38MU8VEBGS\n",
       "7   676722          QL000023          S4OBFDZS4U1RBX5\n",
       "8   115246          QL000024          A6ZQWZ6VMUH2XA6\n",
       "9   781328          QL000025                      NaN"
      ]
     },
     "execution_count": 8,
     "metadata": {},
     "output_type": "execute_result"
    }
   ],
   "source": [
    "qualified_leads.head(10)"
   ]
  },
  {
   "cell_type": "code",
   "execution_count": 9,
   "id": "ced8d12c-446e-4494-9308-52380178b65b",
   "metadata": {},
   "outputs": [
    {
     "name": "stdout",
     "output_type": "stream",
     "text": [
      "<class 'pandas.core.frame.DataFrame'>\n",
      "RangeIndex: 25414 entries, 0 to 25413\n",
      "Data columns (total 3 columns):\n",
      " #   Column                    Non-Null Count  Dtype \n",
      "---  ------                    --------------  ----- \n",
      " 0   LEAD_ID                   25414 non-null  int64 \n",
      " 1   QUALIFIED_LEAD_ID         25414 non-null  object\n",
      " 2   CONVERTED_OPPORTUNITY_ID  17066 non-null  object\n",
      "dtypes: int64(1), object(2)\n",
      "memory usage: 595.8+ KB\n"
     ]
    }
   ],
   "source": [
    "qualified_leads.info()"
   ]
  },
  {
   "cell_type": "code",
   "execution_count": 10,
   "id": "d76747a9-8209-4371-b423-92a14103cd9b",
   "metadata": {},
   "outputs": [
    {
     "data": {
      "text/html": [
       "<div>\n",
       "<style scoped>\n",
       "    .dataframe tbody tr th:only-of-type {\n",
       "        vertical-align: middle;\n",
       "    }\n",
       "\n",
       "    .dataframe tbody tr th {\n",
       "        vertical-align: top;\n",
       "    }\n",
       "\n",
       "    .dataframe thead th {\n",
       "        text-align: right;\n",
       "    }\n",
       "</style>\n",
       "<table border=\"1\" class=\"dataframe\">\n",
       "  <thead>\n",
       "    <tr style=\"text-align: right;\">\n",
       "      <th></th>\n",
       "      <th>OPPORTUNITY_ID</th>\n",
       "      <th>ACCOUNT_ID</th>\n",
       "      <th>OPPORTUNITY_CREATED_DATE</th>\n",
       "      <th>OPPORTUNITY_OWNER_ROLE</th>\n",
       "      <th>COMPANY_SIZE</th>\n",
       "      <th>OPPORTUNITY_IS_WON</th>\n",
       "      <th>OPPORTUNITY_SOURCE</th>\n",
       "      <th>REVENUE</th>\n",
       "    </tr>\n",
       "  </thead>\n",
       "  <tbody>\n",
       "    <tr>\n",
       "      <th>0</th>\n",
       "      <td>3SSHT9F3N6LCC7F</td>\n",
       "      <td>AC11621</td>\n",
       "      <td>1/4/22 0:00</td>\n",
       "      <td>Self Service Team</td>\n",
       "      <td>3</td>\n",
       "      <td>1</td>\n",
       "      <td>BD</td>\n",
       "      <td>360</td>\n",
       "    </tr>\n",
       "    <tr>\n",
       "      <th>1</th>\n",
       "      <td>WQFQ26CXMU7RADH</td>\n",
       "      <td>AC12199</td>\n",
       "      <td>2/14/21 0:00</td>\n",
       "      <td>Self Service Team</td>\n",
       "      <td>1</td>\n",
       "      <td>0</td>\n",
       "      <td>Inbound</td>\n",
       "      <td>175</td>\n",
       "    </tr>\n",
       "    <tr>\n",
       "      <th>2</th>\n",
       "      <td>SOQMUN0Q31WVE91</td>\n",
       "      <td>AC04963</td>\n",
       "      <td>6/13/22 0:00</td>\n",
       "      <td>Self Service Team</td>\n",
       "      <td>154</td>\n",
       "      <td>1</td>\n",
       "      <td>SDA</td>\n",
       "      <td>13244</td>\n",
       "    </tr>\n",
       "    <tr>\n",
       "      <th>3</th>\n",
       "      <td>A1I6QUWYJO8L6SR</td>\n",
       "      <td>AC05505</td>\n",
       "      <td>12/22/24 0:00</td>\n",
       "      <td>Self Service Team</td>\n",
       "      <td>61</td>\n",
       "      <td>0</td>\n",
       "      <td>Inbound</td>\n",
       "      <td>7259</td>\n",
       "    </tr>\n",
       "    <tr>\n",
       "      <th>4</th>\n",
       "      <td>MQ1YU3CYTUH90NR</td>\n",
       "      <td>AC04964</td>\n",
       "      <td>7/15/20 0:00</td>\n",
       "      <td>Account Executive Team</td>\n",
       "      <td>40</td>\n",
       "      <td>1</td>\n",
       "      <td>Self</td>\n",
       "      <td>2560</td>\n",
       "    </tr>\n",
       "    <tr>\n",
       "      <th>5</th>\n",
       "      <td>EVNK2DQX6PXB1FL</td>\n",
       "      <td>AC12199</td>\n",
       "      <td>10/20/22 0:00</td>\n",
       "      <td>Self Service Team</td>\n",
       "      <td>16</td>\n",
       "      <td>0</td>\n",
       "      <td>Inbound</td>\n",
       "      <td>1552</td>\n",
       "    </tr>\n",
       "    <tr>\n",
       "      <th>6</th>\n",
       "      <td>AQ0PN38MU8VEBGS</td>\n",
       "      <td>AC11622</td>\n",
       "      <td>6/30/20 0:00</td>\n",
       "      <td>Business Development Team</td>\n",
       "      <td>20</td>\n",
       "      <td>1</td>\n",
       "      <td>Inbound</td>\n",
       "      <td>2260</td>\n",
       "    </tr>\n",
       "    <tr>\n",
       "      <th>7</th>\n",
       "      <td>3XQ17U1HYA6LB2X</td>\n",
       "      <td>AC04965</td>\n",
       "      <td>5/10/21 0:00</td>\n",
       "      <td>Self Service Team</td>\n",
       "      <td>2</td>\n",
       "      <td>1</td>\n",
       "      <td>Inbound</td>\n",
       "      <td>282</td>\n",
       "    </tr>\n",
       "    <tr>\n",
       "      <th>8</th>\n",
       "      <td>AW37601V6SE9PI2</td>\n",
       "      <td>AC12199</td>\n",
       "      <td>6/12/21 0:00</td>\n",
       "      <td>Self Service Team</td>\n",
       "      <td>20</td>\n",
       "      <td>0</td>\n",
       "      <td>SDA</td>\n",
       "      <td>3060</td>\n",
       "    </tr>\n",
       "    <tr>\n",
       "      <th>9</th>\n",
       "      <td>R97NELDZXUHHPM6</td>\n",
       "      <td>AC12200</td>\n",
       "      <td>4/22/23 0:00</td>\n",
       "      <td>Self Service Team</td>\n",
       "      <td>3</td>\n",
       "      <td>0</td>\n",
       "      <td>Inbound</td>\n",
       "      <td>219</td>\n",
       "    </tr>\n",
       "  </tbody>\n",
       "</table>\n",
       "</div>"
      ],
      "text/plain": [
       "    OPPORTUNITY_ID ACCOUNT_ID OPPORTUNITY_CREATED_DATE  \\\n",
       "0  3SSHT9F3N6LCC7F    AC11621              1/4/22 0:00   \n",
       "1  WQFQ26CXMU7RADH    AC12199             2/14/21 0:00   \n",
       "2  SOQMUN0Q31WVE91    AC04963             6/13/22 0:00   \n",
       "3  A1I6QUWYJO8L6SR    AC05505            12/22/24 0:00   \n",
       "4  MQ1YU3CYTUH90NR    AC04964             7/15/20 0:00   \n",
       "5  EVNK2DQX6PXB1FL    AC12199            10/20/22 0:00   \n",
       "6  AQ0PN38MU8VEBGS    AC11622             6/30/20 0:00   \n",
       "7  3XQ17U1HYA6LB2X    AC04965             5/10/21 0:00   \n",
       "8  AW37601V6SE9PI2    AC12199             6/12/21 0:00   \n",
       "9  R97NELDZXUHHPM6    AC12200             4/22/23 0:00   \n",
       "\n",
       "      OPPORTUNITY_OWNER_ROLE  COMPANY_SIZE  OPPORTUNITY_IS_WON  \\\n",
       "0          Self Service Team             3                   1   \n",
       "1          Self Service Team             1                   0   \n",
       "2          Self Service Team           154                   1   \n",
       "3          Self Service Team            61                   0   \n",
       "4     Account Executive Team            40                   1   \n",
       "5          Self Service Team            16                   0   \n",
       "6  Business Development Team            20                   1   \n",
       "7          Self Service Team             2                   1   \n",
       "8          Self Service Team            20                   0   \n",
       "9          Self Service Team             3                   0   \n",
       "\n",
       "  OPPORTUNITY_SOURCE  REVENUE  \n",
       "0                 BD      360  \n",
       "1            Inbound      175  \n",
       "2                SDA    13244  \n",
       "3            Inbound     7259  \n",
       "4               Self     2560  \n",
       "5            Inbound     1552  \n",
       "6            Inbound     2260  \n",
       "7            Inbound      282  \n",
       "8                SDA     3060  \n",
       "9            Inbound      219  "
      ]
     },
     "execution_count": 10,
     "metadata": {},
     "output_type": "execute_result"
    }
   ],
   "source": [
    "account_opportunitiy.head(10)"
   ]
  },
  {
   "cell_type": "code",
   "execution_count": 11,
   "id": "a247d060-7de8-4b59-a41f-e2b6fc2d05ec",
   "metadata": {},
   "outputs": [
    {
     "name": "stdout",
     "output_type": "stream",
     "text": [
      "<class 'pandas.core.frame.DataFrame'>\n",
      "RangeIndex: 27437 entries, 0 to 27436\n",
      "Data columns (total 8 columns):\n",
      " #   Column                    Non-Null Count  Dtype \n",
      "---  ------                    --------------  ----- \n",
      " 0   OPPORTUNITY_ID            27437 non-null  object\n",
      " 1   ACCOUNT_ID                27437 non-null  object\n",
      " 2   OPPORTUNITY_CREATED_DATE  27437 non-null  object\n",
      " 3   OPPORTUNITY_OWNER_ROLE    27437 non-null  object\n",
      " 4   COMPANY_SIZE              27437 non-null  int64 \n",
      " 5   OPPORTUNITY_IS_WON        27437 non-null  int64 \n",
      " 6   OPPORTUNITY_SOURCE        27437 non-null  object\n",
      " 7   REVENUE                   27437 non-null  int64 \n",
      "dtypes: int64(3), object(5)\n",
      "memory usage: 1.7+ MB\n"
     ]
    }
   ],
   "source": [
    "account_opportunitiy.info()"
   ]
  },
  {
   "cell_type": "code",
   "execution_count": 12,
   "id": "1e866356-75a3-4306-8f42-c58a0558b8d2",
   "metadata": {},
   "outputs": [],
   "source": [
    "account_opportunitiy['OPPORTUNITY_CREATED_DATE'] = pd.to_datetime(account_opportunitiy['OPPORTUNITY_CREATED_DATE'])"
   ]
  },
  {
   "cell_type": "code",
   "execution_count": 13,
   "id": "dbb54f89-7c8d-46e6-9566-8b6de2222526",
   "metadata": {},
   "outputs": [
    {
     "data": {
      "text/plain": [
       "27437"
      ]
     },
     "execution_count": 13,
     "metadata": {},
     "output_type": "execute_result"
    }
   ],
   "source": [
    "account_opportunitiy['OPPORTUNITY_ID'].nunique()"
   ]
  },
  {
   "cell_type": "code",
   "execution_count": 14,
   "id": "dfd91e63-c8c3-4f56-9367-b7b0e619d967",
   "metadata": {},
   "outputs": [
    {
     "data": {
      "text/html": [
       "<div>\n",
       "<style scoped>\n",
       "    .dataframe tbody tr th:only-of-type {\n",
       "        vertical-align: middle;\n",
       "    }\n",
       "\n",
       "    .dataframe tbody tr th {\n",
       "        vertical-align: top;\n",
       "    }\n",
       "\n",
       "    .dataframe thead th {\n",
       "        text-align: right;\n",
       "    }\n",
       "</style>\n",
       "<table border=\"1\" class=\"dataframe\">\n",
       "  <thead>\n",
       "    <tr style=\"text-align: right;\">\n",
       "      <th></th>\n",
       "      <th>OPPORTUNITY_CREATED_DATE</th>\n",
       "      <th>COMPANY_SIZE</th>\n",
       "      <th>OPPORTUNITY_IS_WON</th>\n",
       "      <th>REVENUE</th>\n",
       "    </tr>\n",
       "  </thead>\n",
       "  <tbody>\n",
       "    <tr>\n",
       "      <th>count</th>\n",
       "      <td>27437</td>\n",
       "      <td>27437.000000</td>\n",
       "      <td>27437.000000</td>\n",
       "      <td>27437.000000</td>\n",
       "    </tr>\n",
       "    <tr>\n",
       "      <th>mean</th>\n",
       "      <td>2022-07-30 17:56:36.100156928</td>\n",
       "      <td>30.609360</td>\n",
       "      <td>0.410103</td>\n",
       "      <td>3821.717425</td>\n",
       "    </tr>\n",
       "    <tr>\n",
       "      <th>min</th>\n",
       "      <td>2017-11-28 00:00:00</td>\n",
       "      <td>-865.000000</td>\n",
       "      <td>0.000000</td>\n",
       "      <td>-70930.000000</td>\n",
       "    </tr>\n",
       "    <tr>\n",
       "      <th>25%</th>\n",
       "      <td>2021-10-02 00:00:00</td>\n",
       "      <td>3.000000</td>\n",
       "      <td>0.000000</td>\n",
       "      <td>321.000000</td>\n",
       "    </tr>\n",
       "    <tr>\n",
       "      <th>50%</th>\n",
       "      <td>2022-08-05 00:00:00</td>\n",
       "      <td>13.000000</td>\n",
       "      <td>0.000000</td>\n",
       "      <td>1440.000000</td>\n",
       "    </tr>\n",
       "    <tr>\n",
       "      <th>75%</th>\n",
       "      <td>2023-05-13 00:00:00</td>\n",
       "      <td>48.000000</td>\n",
       "      <td>1.000000</td>\n",
       "      <td>5424.000000</td>\n",
       "    </tr>\n",
       "    <tr>\n",
       "      <th>max</th>\n",
       "      <td>2025-02-26 00:00:00</td>\n",
       "      <td>3380.000000</td>\n",
       "      <td>1.000000</td>\n",
       "      <td>598260.000000</td>\n",
       "    </tr>\n",
       "    <tr>\n",
       "      <th>std</th>\n",
       "      <td>NaN</td>\n",
       "      <td>51.922389</td>\n",
       "      <td>0.491861</td>\n",
       "      <td>7333.397349</td>\n",
       "    </tr>\n",
       "  </tbody>\n",
       "</table>\n",
       "</div>"
      ],
      "text/plain": [
       "            OPPORTUNITY_CREATED_DATE  COMPANY_SIZE  OPPORTUNITY_IS_WON  \\\n",
       "count                          27437  27437.000000        27437.000000   \n",
       "mean   2022-07-30 17:56:36.100156928     30.609360            0.410103   \n",
       "min              2017-11-28 00:00:00   -865.000000            0.000000   \n",
       "25%              2021-10-02 00:00:00      3.000000            0.000000   \n",
       "50%              2022-08-05 00:00:00     13.000000            0.000000   \n",
       "75%              2023-05-13 00:00:00     48.000000            1.000000   \n",
       "max              2025-02-26 00:00:00   3380.000000            1.000000   \n",
       "std                              NaN     51.922389            0.491861   \n",
       "\n",
       "             REVENUE  \n",
       "count   27437.000000  \n",
       "mean     3821.717425  \n",
       "min    -70930.000000  \n",
       "25%       321.000000  \n",
       "50%      1440.000000  \n",
       "75%      5424.000000  \n",
       "max    598260.000000  \n",
       "std      7333.397349  "
      ]
     },
     "execution_count": 14,
     "metadata": {},
     "output_type": "execute_result"
    }
   ],
   "source": [
    "account_opportunitiy.describe()"
   ]
  },
  {
   "cell_type": "code",
   "execution_count": 15,
   "id": "bfa4e8a0-c1be-4535-a806-46b11b9566e3",
   "metadata": {},
   "outputs": [
    {
     "data": {
      "text/html": [
       "<div>\n",
       "<style scoped>\n",
       "    .dataframe tbody tr th:only-of-type {\n",
       "        vertical-align: middle;\n",
       "    }\n",
       "\n",
       "    .dataframe tbody tr th {\n",
       "        vertical-align: top;\n",
       "    }\n",
       "\n",
       "    .dataframe thead th {\n",
       "        text-align: right;\n",
       "    }\n",
       "</style>\n",
       "<table border=\"1\" class=\"dataframe\">\n",
       "  <thead>\n",
       "    <tr style=\"text-align: right;\">\n",
       "      <th></th>\n",
       "      <th>OPPORTUNITY_ID</th>\n",
       "      <th>ACCOUNT_ID</th>\n",
       "      <th>OPPORTUNITY_CREATED_DATE</th>\n",
       "      <th>OPPORTUNITY_OWNER_ROLE</th>\n",
       "      <th>COMPANY_SIZE</th>\n",
       "      <th>OPPORTUNITY_IS_WON</th>\n",
       "      <th>OPPORTUNITY_SOURCE</th>\n",
       "      <th>REVENUE</th>\n",
       "    </tr>\n",
       "  </thead>\n",
       "  <tbody>\n",
       "    <tr>\n",
       "      <th>925</th>\n",
       "      <td>HXGY89YL0Y6E1EY</td>\n",
       "      <td>AC12273</td>\n",
       "      <td>2021-08-29</td>\n",
       "      <td>Self Service Team</td>\n",
       "      <td>-1</td>\n",
       "      <td>0</td>\n",
       "      <td>Inbound</td>\n",
       "      <td>-61</td>\n",
       "    </tr>\n",
       "    <tr>\n",
       "      <th>17173</th>\n",
       "      <td>V2XEEY95NZ8DQF2</td>\n",
       "      <td>AC01336</td>\n",
       "      <td>2022-08-31</td>\n",
       "      <td>Self Service Team</td>\n",
       "      <td>-1</td>\n",
       "      <td>1</td>\n",
       "      <td>Inbound</td>\n",
       "      <td>-126</td>\n",
       "    </tr>\n",
       "    <tr>\n",
       "      <th>21754</th>\n",
       "      <td>2SFU3DB35XDGSEZ</td>\n",
       "      <td>AC13234</td>\n",
       "      <td>2024-06-30</td>\n",
       "      <td>Self Service Team</td>\n",
       "      <td>-5</td>\n",
       "      <td>0</td>\n",
       "      <td>Inbound</td>\n",
       "      <td>-605</td>\n",
       "    </tr>\n",
       "    <tr>\n",
       "      <th>25978</th>\n",
       "      <td>B6V44CX691GAMF7</td>\n",
       "      <td>AC14962</td>\n",
       "      <td>2021-06-24</td>\n",
       "      <td>Self Service Team</td>\n",
       "      <td>-865</td>\n",
       "      <td>0</td>\n",
       "      <td>Inbound</td>\n",
       "      <td>-70930</td>\n",
       "    </tr>\n",
       "  </tbody>\n",
       "</table>\n",
       "</div>"
      ],
      "text/plain": [
       "        OPPORTUNITY_ID ACCOUNT_ID OPPORTUNITY_CREATED_DATE  \\\n",
       "925    HXGY89YL0Y6E1EY    AC12273               2021-08-29   \n",
       "17173  V2XEEY95NZ8DQF2    AC01336               2022-08-31   \n",
       "21754  2SFU3DB35XDGSEZ    AC13234               2024-06-30   \n",
       "25978  B6V44CX691GAMF7    AC14962               2021-06-24   \n",
       "\n",
       "      OPPORTUNITY_OWNER_ROLE  COMPANY_SIZE  OPPORTUNITY_IS_WON  \\\n",
       "925        Self Service Team            -1                   0   \n",
       "17173      Self Service Team            -1                   1   \n",
       "21754      Self Service Team            -5                   0   \n",
       "25978      Self Service Team          -865                   0   \n",
       "\n",
       "      OPPORTUNITY_SOURCE  REVENUE  \n",
       "925              Inbound      -61  \n",
       "17173            Inbound     -126  \n",
       "21754            Inbound     -605  \n",
       "25978            Inbound   -70930  "
      ]
     },
     "execution_count": 15,
     "metadata": {},
     "output_type": "execute_result"
    }
   ],
   "source": [
    "account_opportunitiy[account_opportunitiy['REVENUE']<0]"
   ]
  },
  {
   "cell_type": "code",
   "execution_count": 16,
   "id": "1828996f-c73d-4b12-b1a1-2733ab3b7604",
   "metadata": {},
   "outputs": [],
   "source": [
    "# Remove negative revenue\n",
    "account_opportunitiy = account_opportunitiy[account_opportunitiy['REVENUE']>0]"
   ]
  },
  {
   "cell_type": "markdown",
   "id": "c8dc7b8a-7501-42db-9445-710051badd61",
   "metadata": {},
   "source": [
    "- Qualfied leads based"
   ]
  },
  {
   "cell_type": "code",
   "execution_count": 17,
   "id": "5716d95f-dbb5-4472-9d16-fa039cfd6b2a",
   "metadata": {},
   "outputs": [],
   "source": [
    "# join leads and ql\n",
    "ql = leads.merge(qualified_leads, on='LEAD_ID')"
   ]
  },
  {
   "cell_type": "code",
   "execution_count": 18,
   "id": "5de208d8-c6d3-4b77-87a7-f77d153cd474",
   "metadata": {},
   "outputs": [
    {
     "data": {
      "text/plain": [
       "(25414, 12)"
      ]
     },
     "execution_count": 18,
     "metadata": {},
     "output_type": "execute_result"
    }
   ],
   "source": [
    "ql.shape"
   ]
  },
  {
   "cell_type": "code",
   "execution_count": 19,
   "id": "ad098308-adf2-45f1-8670-a5135e15746c",
   "metadata": {},
   "outputs": [],
   "source": [
    "# join ql and oppo\n",
    "df_ql_oppo = account_opportunitiy.merge(ql, left_on='OPPORTUNITY_ID',right_on='CONVERTED_OPPORTUNITY_ID')"
   ]
  },
  {
   "cell_type": "code",
   "execution_count": 21,
   "id": "d0a47bba-0c50-4571-a65e-ae2355d1668d",
   "metadata": {},
   "outputs": [
    {
     "data": {
      "text/plain": [
       "(17063, 20)"
      ]
     },
     "execution_count": 21,
     "metadata": {},
     "output_type": "execute_result"
    }
   ],
   "source": [
    "df_ql_oppo.shape"
   ]
  },
  {
   "cell_type": "code",
   "execution_count": 24,
   "id": "ce354b53-d58a-46be-89e3-2edcb0eb66bb",
   "metadata": {},
   "outputs": [],
   "source": [
    "# Opportunities should be created after the leads. \n",
    "df_ql_oppo = df_ql_oppo[df_ql_oppo['OPPORTUNITY_CREATED_DATE']>=df_ql_oppo['LEAD_CREATE_DATE']]"
   ]
  },
  {
   "cell_type": "code",
   "execution_count": 29,
   "id": "4a2a0ad3-ea54-4a42-8443-fcb4d29746cc",
   "metadata": {},
   "outputs": [
    {
     "data": {
      "text/plain": [
       "(16902, 20)"
      ]
     },
     "execution_count": 29,
     "metadata": {},
     "output_type": "execute_result"
    }
   ],
   "source": [
    "df_ql_oppo.shape"
   ]
  },
  {
   "cell_type": "code",
   "execution_count": 28,
   "id": "a29eae55-ed8e-4b6c-973f-916711b9c4d9",
   "metadata": {},
   "outputs": [
    {
     "data": {
      "text/plain": [
       "(0, 20)"
      ]
     },
     "execution_count": 28,
     "metadata": {},
     "output_type": "execute_result"
    }
   ],
   "source": [
    "# no matached account_id \n",
    "df_ql_oppo[df_ql_oppo['CONVERTED_ACCOUNT_ID'] == df_ql_oppo['ACCOUNT_ID']].shape"
   ]
  },
  {
   "cell_type": "code",
   "execution_count": 30,
   "id": "8553e71b-8a5f-49d0-a406-c80174db5313",
   "metadata": {},
   "outputs": [],
   "source": [
    "df_ql_final = df_ql_oppo[df_ql_oppo['CONVERTED_ACCOUNT_ID'].isna()]"
   ]
  },
  {
   "cell_type": "code",
   "execution_count": 32,
   "id": "05dab493-ebaf-4751-81b8-74ecb47b420f",
   "metadata": {},
   "outputs": [],
   "source": [
    "df_ql_final['Channel'] = 'qualified_leads'"
   ]
  },
  {
   "cell_type": "code",
   "execution_count": 33,
   "id": "90059447-6a12-49e6-a557-4809899b4deb",
   "metadata": {},
   "outputs": [
    {
     "data": {
      "text/plain": [
       "(16843, 21)"
      ]
     },
     "execution_count": 33,
     "metadata": {},
     "output_type": "execute_result"
    }
   ],
   "source": [
    "df_ql_final.shape"
   ]
  },
  {
   "cell_type": "markdown",
   "id": "81ef2fa9-8a3d-4ebc-8f96-69de432275c1",
   "metadata": {},
   "source": [
    " - account based"
   ]
  },
  {
   "cell_type": "code",
   "execution_count": 105,
   "id": "434559c1-2e35-4839-8692-872e6eb8dbc8",
   "metadata": {},
   "outputs": [],
   "source": [
    "# join opportunity with leads using account_id\n",
    "df_acct = leads.merge(account_opportunitiy,left_on='CONVERTED_ACCOUNT_ID',right_on='ACCOUNT_ID')"
   ]
  },
  {
   "cell_type": "code",
   "execution_count": 106,
   "id": "7c6c0f45-b97f-4a13-a273-5776d6298512",
   "metadata": {},
   "outputs": [
    {
     "data": {
      "text/plain": [
       "(21456, 18)"
      ]
     },
     "execution_count": 106,
     "metadata": {},
     "output_type": "execute_result"
    }
   ],
   "source": [
    "df_acct.shape"
   ]
  },
  {
   "cell_type": "code",
   "execution_count": 71,
   "id": "ecf35226-1bc8-41a0-b2a1-3edca3b65e88",
   "metadata": {},
   "outputs": [],
   "source": [
    "# date filter\n",
    "df_acct = df_acct[df_acct['OPPORTUNITY_CREATED_DATE']>=df_acct['LEAD_CREATE_DATE']]"
   ]
  },
  {
   "cell_type": "code",
   "execution_count": 72,
   "id": "f0910736-dd1a-4460-bc35-22e8d981cb98",
   "metadata": {},
   "outputs": [],
   "source": [
    "# remove the opportunities that already be counted in ql\n",
    "ql_oppo_id = qualified_leads['CONVERTED_OPPORTUNITY_ID']\n",
    "df_acct = df_acct[~df_acct['OPPORTUNITY_ID'].isin(ql_oppo_id)]"
   ]
  },
  {
   "cell_type": "code",
   "execution_count": 73,
   "id": "23e5d044-e4d0-4aa0-87b4-12557d1b0c4f",
   "metadata": {},
   "outputs": [
    {
     "data": {
      "text/plain": [
       "9947"
      ]
     },
     "execution_count": 73,
     "metadata": {},
     "output_type": "execute_result"
    }
   ],
   "source": [
    "df_acct['OPPORTUNITY_ID'].nunique()"
   ]
  },
  {
   "cell_type": "code",
   "execution_count": 76,
   "id": "8da31ff6-ce6a-416b-869b-c37d94fed164",
   "metadata": {},
   "outputs": [],
   "source": [
    "sorted_df_acct = df_acct.sort_values(by='OPPORTUNITY_CREATED_DATE',ascending=False)\n",
    "df_acct_final = sorted_df_acct[~sorted_df_acct.duplicated(subset='OPPORTUNITY_ID',keep='first')]"
   ]
  },
  {
   "cell_type": "code",
   "execution_count": 125,
   "id": "6e8e2fa7-94dc-48d4-b2dc-d83e82efd8c9",
   "metadata": {},
   "outputs": [],
   "source": [
    "remove_id = sorted_df_acct[sorted_df_acct.duplicated(subset='OPPORTUNITY_ID',keep='first')]['LEAD_ID']\n",
    "leads_final = leads[~leads['LEAD_ID'].isin(remove_id)]"
   ]
  },
  {
   "cell_type": "code",
   "execution_count": 77,
   "id": "75de401d-356b-4433-8379-e185bc5e6a8f",
   "metadata": {},
   "outputs": [
    {
     "data": {
      "text/plain": [
       "9947"
      ]
     },
     "execution_count": 77,
     "metadata": {},
     "output_type": "execute_result"
    }
   ],
   "source": [
    "df_acct_final['OPPORTUNITY_ID'].nunique()"
   ]
  },
  {
   "cell_type": "code",
   "execution_count": 78,
   "id": "2f7461e3-1fb4-4303-bfb8-618bef6582ef",
   "metadata": {},
   "outputs": [],
   "source": [
    "df_acct_final['Channel'] = 'account'"
   ]
  },
  {
   "cell_type": "code",
   "execution_count": 79,
   "id": "9456644e-cd96-49ea-bcac-6219daf2a73a",
   "metadata": {},
   "outputs": [
    {
     "data": {
      "text/plain": [
       "(9947, 19)"
      ]
     },
     "execution_count": 79,
     "metadata": {},
     "output_type": "execute_result"
    }
   ],
   "source": [
    "df_acct_final.shape"
   ]
  },
  {
   "cell_type": "code",
   "execution_count": 134,
   "id": "84b836e4-43ee-4680-bd9d-2eb76988af71",
   "metadata": {},
   "outputs": [
    {
     "data": {
      "text/plain": [
       "(16843, 19)"
      ]
     },
     "execution_count": 134,
     "metadata": {},
     "output_type": "execute_result"
    }
   ],
   "source": [
    "df_ql_final.shape"
   ]
  },
  {
   "cell_type": "code",
   "execution_count": 80,
   "id": "23b5a76c-32ec-4f90-9370-1fa56e4ae5cf",
   "metadata": {},
   "outputs": [
    {
     "data": {
      "text/plain": [
       "Index(['OPPORTUNITY_ID', 'ACCOUNT_ID', 'OPPORTUNITY_CREATED_DATE',\n",
       "       'OPPORTUNITY_OWNER_ROLE', 'COMPANY_SIZE', 'OPPORTUNITY_IS_WON',\n",
       "       'OPPORTUNITY_SOURCE', 'REVENUE', 'LEAD_ID', 'LEAD_SOURCE',\n",
       "       'LEAD_CREATE_DATE', 'LEAD_STATUS', 'LEAD_NAME', 'LEAD_REGION',\n",
       "       'LEAD_STATE', 'LEAD_EMAIL', 'LEAD_INDUSTRY', 'CONVERTED_ACCOUNT_ID',\n",
       "       'QUALIFIED_LEAD_ID', 'CONVERTED_OPPORTUNITY_ID', 'Channel'],\n",
       "      dtype='object')"
      ]
     },
     "execution_count": 80,
     "metadata": {},
     "output_type": "execute_result"
    }
   ],
   "source": [
    "df_ql_final.columns"
   ]
  },
  {
   "cell_type": "code",
   "execution_count": 81,
   "id": "3bfb96ac-443e-4da2-915d-411b7442d334",
   "metadata": {},
   "outputs": [
    {
     "data": {
      "text/plain": [
       "Index(['LEAD_ID', 'LEAD_SOURCE', 'LEAD_CREATE_DATE', 'LEAD_STATUS',\n",
       "       'LEAD_NAME', 'LEAD_REGION', 'LEAD_STATE', 'LEAD_EMAIL', 'LEAD_INDUSTRY',\n",
       "       'CONVERTED_ACCOUNT_ID', 'OPPORTUNITY_ID', 'ACCOUNT_ID',\n",
       "       'OPPORTUNITY_CREATED_DATE', 'OPPORTUNITY_OWNER_ROLE', 'COMPANY_SIZE',\n",
       "       'OPPORTUNITY_IS_WON', 'OPPORTUNITY_SOURCE', 'REVENUE', 'Channel'],\n",
       "      dtype='object')"
      ]
     },
     "execution_count": 81,
     "metadata": {},
     "output_type": "execute_result"
    }
   ],
   "source": [
    "df_acct_final.columns"
   ]
  },
  {
   "cell_type": "code",
   "execution_count": 82,
   "id": "ff59982f-5216-4b49-bae9-bd207e2b2873",
   "metadata": {},
   "outputs": [],
   "source": [
    "df_ql_final = df_ql_final.drop(columns=['QUALIFIED_LEAD_ID','CONVERTED_OPPORTUNITY_ID'])"
   ]
  },
  {
   "cell_type": "code",
   "execution_count": 83,
   "id": "7932db3a-0e2d-43ac-8fc7-6a53f8e17216",
   "metadata": {},
   "outputs": [],
   "source": [
    "df = pd.concat([df_ql_final,df_acct_final])"
   ]
  },
  {
   "cell_type": "code",
   "execution_count": 84,
   "id": "3ba43e50-aa03-490a-af0f-0228fe74ee73",
   "metadata": {},
   "outputs": [],
   "source": [
    "df = df.drop_duplicates()"
   ]
  },
  {
   "cell_type": "code",
   "execution_count": 120,
   "id": "1f602e39-7a09-45b4-a3a8-1837f584567a",
   "metadata": {},
   "outputs": [
    {
     "data": {
      "text/plain": [
       "(26790, 19)"
      ]
     },
     "execution_count": 120,
     "metadata": {},
     "output_type": "execute_result"
    }
   ],
   "source": [
    "df.shape"
   ]
  },
  {
   "cell_type": "code",
   "execution_count": 166,
   "id": "134e2ac6-7abb-42b3-92b9-46c5dd9f2ad5",
   "metadata": {},
   "outputs": [
    {
     "data": {
      "text/html": [
       "<div>\n",
       "<style scoped>\n",
       "    .dataframe tbody tr th:only-of-type {\n",
       "        vertical-align: middle;\n",
       "    }\n",
       "\n",
       "    .dataframe tbody tr th {\n",
       "        vertical-align: top;\n",
       "    }\n",
       "\n",
       "    .dataframe thead th {\n",
       "        text-align: right;\n",
       "    }\n",
       "</style>\n",
       "<table border=\"1\" class=\"dataframe\">\n",
       "  <thead>\n",
       "    <tr style=\"text-align: right;\">\n",
       "      <th></th>\n",
       "      <th>REVENUE</th>\n",
       "      <th>OPPORTUNITY_IS_WON</th>\n",
       "      <th>LEAD_CREATE_DATE</th>\n",
       "      <th>COMPANY_SIZE</th>\n",
       "      <th>OPPORTUNITY_CREATED_DATE</th>\n",
       "      <th>LEAD_ID</th>\n",
       "    </tr>\n",
       "  </thead>\n",
       "  <tbody>\n",
       "    <tr>\n",
       "      <th>count</th>\n",
       "      <td>26790.000000</td>\n",
       "      <td>26790.000000</td>\n",
       "      <td>26790</td>\n",
       "      <td>26790.000000</td>\n",
       "      <td>26790</td>\n",
       "      <td>26790.000000</td>\n",
       "    </tr>\n",
       "    <tr>\n",
       "      <th>mean</th>\n",
       "      <td>3829.334490</td>\n",
       "      <td>0.408921</td>\n",
       "      <td>2021-06-24 16:32:27.950727680</td>\n",
       "      <td>30.670063</td>\n",
       "      <td>2022-08-05 04:15:54.624859904</td>\n",
       "      <td>504254.552333</td>\n",
       "    </tr>\n",
       "    <tr>\n",
       "      <th>min</th>\n",
       "      <td>50.000000</td>\n",
       "      <td>0.000000</td>\n",
       "      <td>2020-01-01 00:00:00</td>\n",
       "      <td>1.000000</td>\n",
       "      <td>2020-01-11 00:00:00</td>\n",
       "      <td>10111.000000</td>\n",
       "    </tr>\n",
       "    <tr>\n",
       "      <th>25%</th>\n",
       "      <td>324.000000</td>\n",
       "      <td>0.000000</td>\n",
       "      <td>2020-09-20 00:00:00</td>\n",
       "      <td>3.000000</td>\n",
       "      <td>2021-10-09 00:00:00</td>\n",
       "      <td>253140.750000</td>\n",
       "    </tr>\n",
       "    <tr>\n",
       "      <th>50%</th>\n",
       "      <td>1448.000000</td>\n",
       "      <td>0.000000</td>\n",
       "      <td>2021-06-23 00:00:00</td>\n",
       "      <td>13.000000</td>\n",
       "      <td>2022-08-09 00:00:00</td>\n",
       "      <td>505576.000000</td>\n",
       "    </tr>\n",
       "    <tr>\n",
       "      <th>75%</th>\n",
       "      <td>5440.000000</td>\n",
       "      <td>1.000000</td>\n",
       "      <td>2022-03-26 00:00:00</td>\n",
       "      <td>48.000000</td>\n",
       "      <td>2023-05-15 00:00:00</td>\n",
       "      <td>754863.750000</td>\n",
       "    </tr>\n",
       "    <tr>\n",
       "      <th>max</th>\n",
       "      <td>598260.000000</td>\n",
       "      <td>1.000000</td>\n",
       "      <td>2022-12-31 00:00:00</td>\n",
       "      <td>3380.000000</td>\n",
       "      <td>2025-02-26 00:00:00</td>\n",
       "      <td>999979.000000</td>\n",
       "    </tr>\n",
       "    <tr>\n",
       "      <th>std</th>\n",
       "      <td>7323.006458</td>\n",
       "      <td>0.491644</td>\n",
       "      <td>NaN</td>\n",
       "      <td>51.648204</td>\n",
       "      <td>NaN</td>\n",
       "      <td>286607.059406</td>\n",
       "    </tr>\n",
       "  </tbody>\n",
       "</table>\n",
       "</div>"
      ],
      "text/plain": [
       "             REVENUE  OPPORTUNITY_IS_WON               LEAD_CREATE_DATE  \\\n",
       "count   26790.000000        26790.000000                          26790   \n",
       "mean     3829.334490            0.408921  2021-06-24 16:32:27.950727680   \n",
       "min        50.000000            0.000000            2020-01-01 00:00:00   \n",
       "25%       324.000000            0.000000            2020-09-20 00:00:00   \n",
       "50%      1448.000000            0.000000            2021-06-23 00:00:00   \n",
       "75%      5440.000000            1.000000            2022-03-26 00:00:00   \n",
       "max    598260.000000            1.000000            2022-12-31 00:00:00   \n",
       "std      7323.006458            0.491644                            NaN   \n",
       "\n",
       "       COMPANY_SIZE       OPPORTUNITY_CREATED_DATE        LEAD_ID  \n",
       "count  26790.000000                          26790   26790.000000  \n",
       "mean      30.670063  2022-08-05 04:15:54.624859904  504254.552333  \n",
       "min        1.000000            2020-01-11 00:00:00   10111.000000  \n",
       "25%        3.000000            2021-10-09 00:00:00  253140.750000  \n",
       "50%       13.000000            2022-08-09 00:00:00  505576.000000  \n",
       "75%       48.000000            2023-05-15 00:00:00  754863.750000  \n",
       "max     3380.000000            2025-02-26 00:00:00  999979.000000  \n",
       "std       51.648204                            NaN  286607.059406  "
      ]
     },
     "execution_count": 166,
     "metadata": {},
     "output_type": "execute_result"
    }
   ],
   "source": [
    "df.describe()"
   ]
  },
  {
   "cell_type": "code",
   "execution_count": 127,
   "id": "3be80426-f7e6-4196-9b93-f40445712f1b",
   "metadata": {},
   "outputs": [
    {
     "data": {
      "text/plain": [
       "(52666, 10)"
      ]
     },
     "execution_count": 127,
     "metadata": {},
     "output_type": "execute_result"
    }
   ],
   "source": [
    "leads_final.shape"
   ]
  },
  {
   "cell_type": "markdown",
   "id": "2a712daf-0af7-40cd-8261-2a18da35886f",
   "metadata": {},
   "source": [
    "## Data Analysis"
   ]
  },
  {
   "cell_type": "code",
   "execution_count": 136,
   "id": "5167e013-3eec-4394-aa67-7261df020b3d",
   "metadata": {},
   "outputs": [
    {
     "name": "stdout",
     "output_type": "stream",
     "text": [
      "number of leads: 52666\n",
      "number of qualified_leads: 25414\n",
      "number of account based: 7478\n",
      "number of oppo: 26790\n",
      "value of oppo: 102587871\n",
      "number of sales: 10955\n",
      "value of sales: 42032795\n",
      "lead to qualified_lead conversion rate is: 48.26\n",
      "lead to qualified_account conversion rate is: 14.2\n",
      "lead to oppotunity conversion rate is: 50.87\n",
      "lead to sales conversion rate is 20.8\n",
      "oppo to sales conversion rate is 40.89\n",
      "oppo to sales value conversion rate is 40.97\n"
     ]
    }
   ],
   "source": [
    "sales = df[df['OPPORTUNITY_IS_WON'] == 1]\n",
    "\n",
    "ld = leads_final['LEAD_ID'].nunique()\n",
    "ql_cnt = ql['LEAD_ID'].nunique()\n",
    "acct = leads_final['CONVERTED_ACCOUNT_ID'].nunique()\n",
    "oppo = df['OPPORTUNITY_ID'].nunique()\n",
    "oppo_value = df['REVENUE'].sum()\n",
    "oppo_won = sales['OPPORTUNITY_ID'].nunique()\n",
    "oppo_won_value = sales['REVENUE'].sum()\n",
    "\n",
    "#lead to qualified lead\n",
    "print(f'number of leads: {ld}')\n",
    "print(f'number of qualified_leads: {ql_cnt}')\n",
    "print(f'number of account based: {acct}')\n",
    "print(f'number of oppo: {oppo}')\n",
    "print(f'value of oppo: {oppo_value}')\n",
    "print(f'number of sales: {oppo_won}')\n",
    "print(f'value of sales: {oppo_won_value}')\n",
    "\n",
    "print(f'lead to qualified_lead conversion rate is: {round(ql_cnt/ld*100,2)}')\n",
    "print(f'lead to qualified_account conversion rate is: {round(acct/ld*100,2)}')\n",
    "print(f'lead to oppotunity conversion rate is: {round(oppo/ld*100,2)}')\n",
    "print(f'lead to sales conversion rate is {round(oppo_won/ld*100,2)}')\n",
    "print(f'oppo to sales conversion rate is {round(oppo_won/oppo*100,2)}')\n",
    "print(f'oppo to sales value conversion rate is {round(oppo_won_value/oppo_value*100,2)}')"
   ]
  },
  {
   "cell_type": "code",
   "execution_count": 137,
   "id": "4f857596-bd3f-484d-9f98-01f3ebfff40e",
   "metadata": {},
   "outputs": [
    {
     "name": "stdout",
     "output_type": "stream",
     "text": [
      "<class 'pandas.core.frame.DataFrame'>\n",
      "Index: 52666 entries, 0 to 55013\n",
      "Data columns (total 10 columns):\n",
      " #   Column                Non-Null Count  Dtype         \n",
      "---  ------                --------------  -----         \n",
      " 0   LEAD_ID               52666 non-null  int64         \n",
      " 1   LEAD_SOURCE           50012 non-null  object        \n",
      " 2   LEAD_CREATE_DATE      52666 non-null  datetime64[ns]\n",
      " 3   LEAD_STATUS           52666 non-null  object        \n",
      " 4   LEAD_NAME             52666 non-null  object        \n",
      " 5   LEAD_REGION           36629 non-null  object        \n",
      " 6   LEAD_STATE            33064 non-null  object        \n",
      " 7   LEAD_EMAIL            44813 non-null  object        \n",
      " 8   LEAD_INDUSTRY         18080 non-null  object        \n",
      " 9   CONVERTED_ACCOUNT_ID  7479 non-null   object        \n",
      "dtypes: datetime64[ns](1), int64(1), object(8)\n",
      "memory usage: 4.4+ MB\n"
     ]
    }
   ],
   "source": [
    "leads_final.info()"
   ]
  },
  {
   "cell_type": "code",
   "execution_count": 149,
   "id": "3e5d1ae9-ddfc-41fa-b2cb-089e9a159d69",
   "metadata": {},
   "outputs": [
    {
     "data": {
      "text/plain": [
       "39544"
      ]
     },
     "execution_count": 149,
     "metadata": {},
     "output_type": "execute_result"
    }
   ],
   "source": [
    "incompleted_ld = leads_final[(leads_final['LEAD_EMAIL'].isna()) | (leads_final['LEAD_INDUSTRY'].isna()) | (leads_final['LEAD_REGION'].isna()) ]['LEAD_ID']\n",
    "incompleted_ld.size"
   ]
  },
  {
   "cell_type": "code",
   "execution_count": 145,
   "id": "8ce9449d-9c91-400c-9792-3c111891bfa8",
   "metadata": {},
   "outputs": [
    {
     "name": "stdout",
     "output_type": "stream",
     "text": [
      "Completed info: 24.915505259560245\n"
     ]
    }
   ],
   "source": [
    "print(f'Completed info: {(1-39544/52666)*100}')"
   ]
  },
  {
   "cell_type": "code",
   "execution_count": 154,
   "id": "62b8795c-1e0d-443f-82d8-9e527da2022e",
   "metadata": {},
   "outputs": [
    {
     "data": {
      "text/plain": [
       "18881"
      ]
     },
     "execution_count": 154,
     "metadata": {},
     "output_type": "execute_result"
    }
   ],
   "source": [
    "ql[ql['LEAD_ID'].isin(incompleted_ld)]['LEAD_ID'].size"
   ]
  },
  {
   "cell_type": "code",
   "execution_count": 156,
   "id": "81056592-a3ac-44e9-8930-e6bc65cfabfe",
   "metadata": {},
   "outputs": [
    {
     "data": {
      "text/plain": [
       "(25414, 12)"
      ]
     },
     "execution_count": 156,
     "metadata": {},
     "output_type": "execute_result"
    }
   ],
   "source": [
    "ql.shape"
   ]
  },
  {
   "cell_type": "code",
   "execution_count": 158,
   "id": "83033d96-61ca-47c0-bde6-4eaa4b6a1f4e",
   "metadata": {},
   "outputs": [
    {
     "name": "stdout",
     "output_type": "stream",
     "text": [
      "qualifed_leads from incompleted leads: 47.74681367590532\n",
      "qualifed_leads from completed leads: 49.78661789361378\n"
     ]
    }
   ],
   "source": [
    "print(f'qualifed_leads from incompleted leads: {18881/39544*100}')\n",
    "print(f'qualifed_leads from completed leads: {(25414-18881)/(52666-39544)*100}') "
   ]
  },
  {
   "cell_type": "code",
   "execution_count": 162,
   "id": "c8219d8c-c681-4fc4-9975-9cf9f6b42a3e",
   "metadata": {},
   "outputs": [
    {
     "data": {
      "text/plain": [
       "7853"
      ]
     },
     "execution_count": 162,
     "metadata": {},
     "output_type": "execute_result"
    }
   ],
   "source": [
    "no_email = leads_final[leads_final['LEAD_EMAIL'].isna()]['LEAD_ID']"
   ]
  },
  {
   "cell_type": "code",
   "execution_count": 165,
   "id": "f1156b88-0300-4843-b577-7ef262e30b45",
   "metadata": {},
   "outputs": [
    {
     "name": "stdout",
     "output_type": "stream",
     "text": [
      "no email ql: 47.11575194193302\n"
     ]
    }
   ],
   "source": [
    "no_email_ql_cnt = ql[ql['LEAD_ID'].isin(no_email)]['LEAD_ID'].size\n",
    "no_email.size\n",
    "print(f'no email ql: {no_email_ql_cnt/no_email.size*100}')"
   ]
  },
  {
   "cell_type": "markdown",
   "id": "4dab8a0a-685e-4ac3-acab-e083e5253637",
   "metadata": {},
   "source": [
    "The info completed rate doesn't impact the qualification but the information will help understand the potential customers and  improve lead quality."
   ]
  },
  {
   "cell_type": "code",
   "execution_count": 174,
   "id": "d6466003-8152-435e-b8e9-445455b91ccb",
   "metadata": {},
   "outputs": [],
   "source": [
    "df['converted_days'] = (df['OPPORTUNITY_CREATED_DATE']-df['LEAD_CREATE_DATE']).dt.days"
   ]
  },
  {
   "cell_type": "code",
   "execution_count": 177,
   "id": "79acd103-efa9-4d1a-8a26-4cfe3ace5f48",
   "metadata": {},
   "outputs": [
    {
     "data": {
      "text/plain": [
       "count    26790.000000\n",
       "mean       406.488503\n",
       "std        351.397397\n",
       "min          0.000000\n",
       "25%        129.000000\n",
       "50%        309.000000\n",
       "75%        632.000000\n",
       "max       1823.000000\n",
       "Name: converted_days, dtype: float64"
      ]
     },
     "execution_count": 177,
     "metadata": {},
     "output_type": "execute_result"
    }
   ],
   "source": [
    "df['converted_days'].describe()"
   ]
  }
 ],
 "metadata": {
  "kernelspec": {
   "display_name": "Python 3 (ipykernel)",
   "language": "python",
   "name": "python3"
  },
  "language_info": {
   "codemirror_mode": {
    "name": "ipython",
    "version": 3
   },
   "file_extension": ".py",
   "mimetype": "text/x-python",
   "name": "python",
   "nbconvert_exporter": "python",
   "pygments_lexer": "ipython3",
   "version": "3.11.10"
  }
 },
 "nbformat": 4,
 "nbformat_minor": 5
}
